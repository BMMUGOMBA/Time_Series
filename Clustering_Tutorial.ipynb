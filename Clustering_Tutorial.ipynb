{
 "cells": [
  {
   "cell_type": "raw",
   "id": "680b071e-9241-4153-97bb-423d664d4040",
   "metadata": {},
   "source": [
    "Example 1: Whole Time Series Clustering with k-Means\n",
    "This method applies k-means clustering directly to the entire time series data after standardizing it. \n",
    "K-means clustering groups data by minimizing the variance within each cluster.\n"
   ]
  },
  {
   "cell_type": "code",
   "execution_count": 1,
   "id": "ade642e9-0bb7-473d-821e-a3fea6701d27",
   "metadata": {},
   "outputs": [],
   "source": [
    "import numpy as np\n",
    "import pandas as pd\n",
    "from sklearn.preprocessing import StandardScaler\n",
    "from sklearn.cluster import KMeans"
   ]
  },
  {
   "cell_type": "code",
   "execution_count": 4,
   "id": "1b168f90-d896-43ab-be29-553f9684c69a",
   "metadata": {},
   "outputs": [
    {
     "name": "stdout",
     "output_type": "stream",
     "text": [
      "[2 2 1 2 0 1 2 0 0 2 2 1 1 2 1 2 2 0 2 0 0 0 0 0 0 0 1 1 1 1 1 2 1 1 1 1 2\n",
      " 1 1 0 1 1 2 0 1 1 0 1 2 2 2 1 1 0 0 1 0 0 1 2 2 2 0 1 1 2 1 2 0 1 1 2 2 2\n",
      " 2 2 0 2 1 0 2 0 1 2 2 0 0 0 1 2 0 1 1 0 0 2 0 2 2 2]\n"
     ]
    },
    {
     "name": "stderr",
     "output_type": "stream",
     "text": [
      "C:\\ProgramData\\anaconda3\\Lib\\site-packages\\sklearn\\cluster\\_kmeans.py:1429: UserWarning: KMeans is known to have a memory leak on Windows with MKL, when there are less chunks than available threads. You can avoid it by setting the environment variable OMP_NUM_THREADS=1.\n",
      "  warnings.warn(\n"
     ]
    }
   ],
   "source": [
    "#Generating synthetic time series data\n",
    "np.random.seed(0)\n",
    "time_series_data = np.random.randn(100,50) #100 time series each of length 50\n",
    "\n",
    "#standardazing the dataset\n",
    "scaler = StandardScaler()\n",
    "time_series_data_scaled = scaler.fit_transform(time_series_data)\n",
    "\n",
    "#clustering using K means\n",
    "Kmeans = KMeans(n_clusters =3, random_state=0)\n",
    "labels = Kmeans.fit_predict(time_series_data_scaled)\n",
    "\n",
    "#Display cluster labels\n",
    "print(labels)"
   ]
  },
  {
   "cell_type": "raw",
   "id": "255640bd-7376-4d1c-b2f9-5972d3afba88",
   "metadata": {},
   "source": [
    "Example 2: Subsequence Clustering with k-Means\n",
    "This method involves extracting subsequences from the time series data and then applying k-means clustering to these subsequences. \n",
    "This approach captures local patterns within the time series.\n"
   ]
  },
  {
   "cell_type": "code",
   "execution_count": 7,
   "id": "bcff851d-6318-40f3-a3ba-8f77ab6618f4",
   "metadata": {},
   "outputs": [
    {
     "name": "stdout",
     "output_type": "stream",
     "text": [
      "Defaulting to user installation because normal site-packages is not writeable\n",
      "Collecting tslearn\n",
      "  Downloading tslearn-0.6.4-py3-none-any.whl.metadata (15 kB)\n",
      "Requirement already satisfied: scikit-learn<1.7,>=1.3.2 in c:\\programdata\\anaconda3\\lib\\site-packages (from tslearn) (1.5.1)\n",
      "Requirement already satisfied: numpy<2.3,>=1.24.3 in c:\\users\\user\\appdata\\roaming\\python\\python312\\site-packages (from tslearn) (1.26.4)\n",
      "Requirement already satisfied: scipy<1.17,>=1.10.1 in c:\\programdata\\anaconda3\\lib\\site-packages (from tslearn) (1.13.1)\n",
      "Requirement already satisfied: numba<0.62,>=0.58.1 in c:\\programdata\\anaconda3\\lib\\site-packages (from tslearn) (0.60.0)\n",
      "Requirement already satisfied: joblib<1.6,>=0.12 in c:\\programdata\\anaconda3\\lib\\site-packages (from tslearn) (1.4.2)\n",
      "Requirement already satisfied: llvmlite<0.44,>=0.43.0dev0 in c:\\programdata\\anaconda3\\lib\\site-packages (from numba<0.62,>=0.58.1->tslearn) (0.43.0)\n",
      "Requirement already satisfied: threadpoolctl>=3.1.0 in c:\\programdata\\anaconda3\\lib\\site-packages (from scikit-learn<1.7,>=1.3.2->tslearn) (3.5.0)\n",
      "Downloading tslearn-0.6.4-py3-none-any.whl (389 kB)\n",
      "Installing collected packages: tslearn\n",
      "Successfully installed tslearn-0.6.4\n"
     ]
    }
   ],
   "source": [
    "!pip install tslearn\n"
   ]
  },
  {
   "cell_type": "code",
   "execution_count": 10,
   "id": "0fa07ace-2be3-4e1c-820a-307e78df247b",
   "metadata": {},
   "outputs": [
    {
     "name": "stdout",
     "output_type": "stream",
     "text": [
      "[0 2 1 0 1 0 2 1 0 1 0 2 2 2 1 0 1 0 2 2 2 1 1 0 1 0 2 2 1 1 1 0 2 2 2 1 0\n",
      " 1 0 2 0 2 1 0 1 1 0 1 0 1 1 0 2 0 2 1 0 1 0 2 1 0 1 0 2 1 2 2 2 2 1 0 1 0\n",
      " 2 0 2 1 0 1 2]\n"
     ]
    }
   ],
   "source": [
    "import numpy as np\n",
    "from sklearn.cluster import KMeans\n",
    "from sklearn.preprocessing import StandardScaler\n",
    "from tslearn.utils import to_time_series_dataset\n",
    "from tslearn.clustering import TimeSeriesKMeans\n",
    "\n",
    "# Generating synthetic time series data\n",
    "np.random.seed(0)\n",
    "time_series_data = np.random.randn(10, 100)  # 10 time series, each of length 100\n",
    "\n",
    "# Extracting subsequences\n",
    "window_size = 20\n",
    "subsequences = [time_series_data[i, j:j+window_size] \n",
    "                for i in range(time_series_data.shape[0]) \n",
    "                for j in range(time_series_data.shape[1] - window_size + 1)]\n",
    "subsequences = np.array(subsequences)\n",
    "\n",
    "# Standardizing the subsequences\n",
    "scaler = StandardScaler()\n",
    "subsequences_scaled = scaler.fit_transform(subsequences)\n",
    "\n",
    "# Clustering using k-Means\n",
    "kmeans = KMeans(n_clusters=3, random_state=0)\n",
    "labels = kmeans.fit_predict(subsequences_scaled)\n",
    "\n",
    "# Display cluster labels for the first time series\n",
    "print(labels[:time_series_data.shape[1] - window_size + 1])"
   ]
  },
  {
   "cell_type": "raw",
   "id": "a2a0d122-abe3-471b-8ab2-9d743ea311f4",
   "metadata": {},
   "source": [
    "Example 3: Shape-Based Clustering with Dynamic Time Warping (DTW)\n",
    "This method uses Dynamic Time Warping (DTW) as the distance measure to cluster time series based on their shapes. \n",
    "DTW aligns sequences by warping the time axis to minimize the distance between them, making it robust to time shifts."
   ]
  },
  {
   "cell_type": "code",
   "execution_count": 11,
   "id": "c17b5867-6274-416e-a5a3-16b6d266a581",
   "metadata": {},
   "outputs": [
    {
     "name": "stdout",
     "output_type": "stream",
     "text": [
      "[1 0 1 2 1 0 2 2 1 1 1 1 0 0 2 2 0 0 0 1]\n"
     ]
    }
   ],
   "source": [
    "import numpy as np\n",
    "from tslearn.preprocessing import TimeSeriesScalerMeanVariance\n",
    "from tslearn.clustering import TimeSeriesKMeans\n",
    "\n",
    "# Generating synthetic time series data\n",
    "np.random.seed(0)\n",
    "time_series_data = np.random.randn(20, 50)  # 20 time series, each of length 50\n",
    "\n",
    "# Converting to time series dataset\n",
    "time_series_dataset = to_time_series_dataset(time_series_data)\n",
    "\n",
    "# Standardizing the data\n",
    "scaler = TimeSeriesScalerMeanVariance()\n",
    "time_series_dataset_scaled = scaler.fit_transform(time_series_dataset)\n",
    "\n",
    "# Clustering using TimeSeriesKMeans with DTW metric\n",
    "model = TimeSeriesKMeans(n_clusters=3, metric=\"dtw\", random_state=0)\n",
    "labels = model.fit_predict(time_series_dataset_scaled)\n",
    "\n",
    "# Display cluster labels\n",
    "print(labels)"
   ]
  },
  {
   "cell_type": "markdown",
   "id": "8ab43b2d-8677-497d-b7a5-287e1450b61e",
   "metadata": {},
   "source": [
    "Example 4: Clustering Time Series Data Using DTW and Evaluating with Silhouette Score"
   ]
  },
  {
   "cell_type": "code",
   "execution_count": 12,
   "id": "17892719-c50e-4f85-80f1-cec0b3a98888",
   "metadata": {},
   "outputs": [
    {
     "name": "stdout",
     "output_type": "stream",
     "text": [
      "Silhouette Score: 0.16666666666666666\n"
     ]
    },
    {
     "data": {
      "image/png": "[encoded data removed]",
      "text/plain": [
       "<Figure size 640x480 with 1 Axes>"
      ]
     },
     "metadata": {},
     "output_type": "display_data"
    }
   ],
   "source": [
    "import numpy as np\n",
    "import matplotlib.pyplot as plt\n",
    "from sklearn.preprocessing import MinMaxScaler\n",
    "from tslearn.metrics import cdist_dtw\n",
    "from tslearn.clustering import TimeSeriesKMeans\n",
    "from sklearn.metrics import silhouette_score\n",
    "\n",
    "# Generate example time series data\n",
    "time = np.arange(0, 10, 0.1)\n",
    "values = np.sin(time)\n",
    "data = np.array([values, values + 0.1, values - 0.1])\n",
    "\n",
    "# Normalize the time series data\n",
    "scaler = MinMaxScaler()\n",
    "normalized_data = scaler.fit_transform(data)\n",
    "\n",
    "# Compute DTW distance matrix\n",
    "distance_matrix = cdist_dtw(normalized_data)\n",
    "\n",
    "# K-Means clustering with DTW as the metric\n",
    "kmeans = TimeSeriesKMeans(n_clusters=2, metric=\"dtw\")\n",
    "clusters = kmeans.fit_predict(normalized_data)\n",
    "\n",
    "# Evaluate clusters using silhouette score with precomputed distance matrix\n",
    "score = silhouette_score(distance_matrix, clusters, metric=\"precomputed\")\n",
    "print(f'Silhouette Score: {score}')\n",
    "\n",
    "# Plot example time series data\n",
    "plt.plot(time, values)\n",
    "plt.title('Example Time Series Data')\n",
    "plt.xlabel('Time')\n",
    "plt.ylabel('Values')\n",
    "plt.show()"
   ]
  },
  {
   "cell_type": "code",
   "execution_count": null,
   "id": "b68bf3f0-c15e-4c13-8fa3-6d07f4f9f564",
   "metadata": {},
   "outputs": [],
   "source": []
  }
 ],
 "metadata": {
  "kernelspec": {
   "display_name": "Python [conda env:base] *",
   "language": "python",
   "name": "conda-base-py"
  },
  "language_info": {
   "codemirror_mode": {
    "name": "ipython",
    "version": 3
   },
   "file_extension": ".py",
   "mimetype": "text/x-python",
   "name": "python",
   "nbconvert_exporter": "python",
   "pygments_lexer": "ipython3",
   "version": "3.12.7"
  }
 },
 "nbformat": 4,
 "nbformat_minor": 5
}
